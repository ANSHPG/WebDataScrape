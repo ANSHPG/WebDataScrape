{
  "nbformat": 4,
  "nbformat_minor": 0,
  "metadata": {
    "colab": {
      "provenance": []
    },
    "kernelspec": {
      "name": "python3",
      "display_name": "Python 3"
    },
    "language_info": {
      "name": "python"
    }
  },
  "cells": [
    {
      "cell_type": "markdown",
      "source": [
        "**WEB SCRAPPING | ANSHUMAN PATTNAIK**"
      ],
      "metadata": {
        "id": "cdkgvVFg4mYn"
      }
    },
    {
      "cell_type": "code",
      "execution_count": 109,
      "metadata": {
        "id": "c4IbkiYBuC3E"
      },
      "outputs": [],
      "source": [
        "import pandas as pd\n",
        "import requests\n",
        "from bs4 import BeautifulSoup"
      ]
    },
    {
      "cell_type": "code",
      "source": [
        "url = 'https://internshala.com/jobs/page-1/'"
      ],
      "metadata": {
        "id": "xVaP3pFyufMD"
      },
      "execution_count": 151,
      "outputs": []
    },
    {
      "cell_type": "code",
      "source": [
        "headers={'User-Agent':'Mozilla/5.0 (Windows NT 6.3; Win 64 ; x64) Apple WeKit /537.36(KHTML , like Gecko) Chrome/80.0.3987.162 Safari/537.36'}\n",
        "webpage = requests.get(url,headers=headers).text"
      ],
      "metadata": {
        "id": "gAN2C3oAuJ9D"
      },
      "execution_count": 111,
      "outputs": []
    },
    {
      "cell_type": "code",
      "source": [
        "soup = BeautifulSoup(webpage,'lxml')\n",
        "print(soup.prettify())"
      ],
      "metadata": {
        "id": "dp9FHGfguVA5"
      },
      "execution_count": null,
      "outputs": []
    },
    {
      "cell_type": "code",
      "source": [
        "card_container = 'container-fluid'\n",
        "company2 = soup.find_all('div',class_='individual_internship_details')\n",
        "ctc3 = soup.find_all('div',class_='other_detail_item salary_container')\n",
        "exp5 = soup.find_all('div',class_='other_detail_item job-experience-item')\n",
        "job_profile = soup.find_all('h3',class_='heading_4_5 profile')\n",
        "company_name = soup.find_all('div',class_='heading_6 company_name')\n",
        "logo9 = soup.find_all('div',class_='internship_logo')"
      ],
      "metadata": {
        "id": "wgTOoz3Nuaaf"
      },
      "execution_count": 113,
      "outputs": []
    },
    {
      "cell_type": "markdown",
      "source": [
        "**LOCATION**"
      ],
      "metadata": {
        "id": "hhDohnXGqhDl"
      }
    },
    {
      "cell_type": "code",
      "source": [
        "location = []\n",
        "for i in company2:\n",
        "  x3 = i.find('span')\n",
        "  location.append(x3.text.strip())"
      ],
      "metadata": {
        "id": "a490-gVXw44I"
      },
      "execution_count": 114,
      "outputs": []
    },
    {
      "cell_type": "markdown",
      "source": [
        "**COST TO COMPANY [CTC]**"
      ],
      "metadata": {
        "id": "AejX3maCqk5Y"
      }
    },
    {
      "cell_type": "code",
      "source": [
        "ctc = []\n",
        "for i in ctc3:\n",
        "  x4 = i.find('span',class_='desktop')\n",
        "  ctc.append(x4.text.strip())"
      ],
      "metadata": {
        "id": "g6M4Mj8WLMdD"
      },
      "execution_count": 115,
      "outputs": []
    },
    {
      "cell_type": "markdown",
      "source": [
        "**EXPERIENCE**"
      ],
      "metadata": {
        "id": "wyACTn5rqs_w"
      }
    },
    {
      "cell_type": "code",
      "source": [
        "exp = []\n",
        "for i in exp5:\n",
        "  x5 = i.find('div',class_='item_body desktop-text')\n",
        "  exp.append(x5.text.strip())"
      ],
      "metadata": {
        "id": "TyfIx37YRdkU"
      },
      "execution_count": 116,
      "outputs": []
    },
    {
      "cell_type": "markdown",
      "source": [
        "**ARRAY CREATION**"
      ],
      "metadata": {
        "id": "e5e72ViLq0G8"
      }
    },
    {
      "cell_type": "code",
      "source": [
        "job = []\n",
        "cmpname = []\n",
        "logo = []"
      ],
      "metadata": {
        "id": "n5zXOrlTlyS6"
      },
      "execution_count": 117,
      "outputs": []
    },
    {
      "cell_type": "markdown",
      "source": [
        "**JOB PROFILE**"
      ],
      "metadata": {
        "id": "0PD4w-dSq7XS"
      }
    },
    {
      "cell_type": "code",
      "source": [
        "for i in job_profile:\n",
        "  x7 = i.text.strip()\n",
        "  job.append(x7)"
      ],
      "metadata": {
        "id": "trUu0fRcjfvS"
      },
      "execution_count": 118,
      "outputs": []
    },
    {
      "cell_type": "markdown",
      "source": [
        "**COMPANY NAME**"
      ],
      "metadata": {
        "id": "WvZG9j0orE0C"
      }
    },
    {
      "cell_type": "code",
      "source": [
        "for i in company_name:\n",
        "  x8 = i.find('p')\n",
        "  cmpname.append(x8.text.strip())"
      ],
      "metadata": {
        "id": "yvRZbhzRklUF"
      },
      "execution_count": 119,
      "outputs": []
    },
    {
      "cell_type": "markdown",
      "source": [
        "**LOGO IMG**"
      ],
      "metadata": {
        "id": "IIlcXfOMrKJz"
      }
    },
    {
      "cell_type": "code",
      "source": [
        "for i in logo9:\n",
        "  x9 = i.find('img')\n",
        "  if x9:\n",
        "    logo.append(x9['src'])\n",
        "  else :\n",
        "    logo.append('none')"
      ],
      "metadata": {
        "id": "PVPpcHMso-mX"
      },
      "execution_count": 120,
      "outputs": []
    },
    {
      "cell_type": "markdown",
      "source": [
        "know the length of series"
      ],
      "metadata": {
        "id": "8UXtKUiXrPbW"
      }
    },
    {
      "cell_type": "code",
      "source": [
        "print(len(job))\n",
        "print(len(cmpname))\n",
        "print(len(logo))\n",
        "print(len(location))\n",
        "print(len(ctc))\n",
        "print(len(exp))"
      ],
      "metadata": {
        "colab": {
          "base_uri": "https://localhost:8080/"
        },
        "id": "B1_ZPK-Filb9",
        "outputId": "78e47c2b-de82-464c-89a2-357e2abc5c4f"
      },
      "execution_count": 121,
      "outputs": [
        {
          "output_type": "stream",
          "name": "stdout",
          "text": [
            "40\n",
            "40\n",
            "40\n",
            "40\n",
            "40\n",
            "40\n"
          ]
        }
      ]
    },
    {
      "cell_type": "code",
      "source": [
        "merge = {'Job Profile':job,'Company':cmpname,'Location':location,'CTC':ctc,'EXPERIENCE':exp,'LOGO':logo}"
      ],
      "metadata": {
        "id": "uXr_htLjqAhH"
      },
      "execution_count": 122,
      "outputs": []
    },
    {
      "cell_type": "code",
      "source": [
        "merge = pd.DataFrame(merge)"
      ],
      "metadata": {
        "id": "kHtE7Te_sJu2"
      },
      "execution_count": 123,
      "outputs": []
    },
    {
      "cell_type": "code",
      "source": [
        "merge"
      ],
      "metadata": {
        "id": "PzYe7OV6t95N"
      },
      "execution_count": null,
      "outputs": []
    },
    {
      "cell_type": "code",
      "source": [
        "logo[13] # to check wheter our rows are correct or not - it is correct - GC MARKETING COMPANY"
      ],
      "metadata": {
        "colab": {
          "base_uri": "https://localhost:8080/",
          "height": 36
        },
        "id": "XqpQpszZuHVV",
        "outputId": "689286d9-487e-4cd3-f9c7-2ca0da95bb58"
      },
      "execution_count": 125,
      "outputs": [
        {
          "output_type": "execute_result",
          "data": {
            "text/plain": [
              "'none'"
            ],
            "application/vnd.google.colaboratory.intrinsic+json": {
              "type": "string"
            }
          },
          "metadata": {},
          "execution_count": 125
        }
      ]
    },
    {
      "cell_type": "markdown",
      "source": [
        "**FROM PAGES RANGE [1:n]**"
      ],
      "metadata": {
        "id": "Viqt8BTn4Qgy"
      }
    },
    {
      "cell_type": "code",
      "source": [
        "data = pd.DataFrame()\n",
        "\n",
        "for i in range(1,11):\n",
        "\n",
        "  url2= url = 'https://internshala.com/jobs/page-{}/'.format(i)\n",
        "  print(url2)\n",
        "  headers={'User-Agent':'Mozilla/5.0 (Windows NT 6.3; Win 64 ; x64) Apple WeKit /537.36(KHTML , like Gecko) Chrome/80.0.3987.162 Safari/537.36'}\n",
        "  webpage = requests.get(url,headers=headers).text\n",
        "  soup = BeautifulSoup(webpage,'lxml')\n",
        "\n",
        "  card_container = 'container-fluid'\n",
        "  company2 = soup.find_all('div',class_='individual_internship_details')\n",
        "  ctc3 = soup.find_all('div',class_='other_detail_item salary_container')\n",
        "  exp5 = soup.find_all('div',class_='other_detail_item job-experience-item')\n",
        "  job_profile = soup.find_all('h3',class_='heading_4_5 profile')\n",
        "  company_name = soup.find_all('div',class_='heading_6 company_name')\n",
        "  logo9 = soup.find_all('div',class_='internship_logo')\n",
        "\n",
        "  location = []\n",
        "  for i in company2:\n",
        "   x3 = i.find('span')\n",
        "   location.append(x3.text.strip())\n",
        "\n",
        "  ctc = []\n",
        "  for i in ctc3:\n",
        "   x4 = i.find('span',class_='desktop')\n",
        "   ctc.append(x4.text.strip())\n",
        "\n",
        "  exp = []\n",
        "  for i in exp5:\n",
        "   x5 = i.find('div',class_='item_body desktop-text')\n",
        "   exp.append(x5.text.strip())\n",
        "\n",
        "  job = []\n",
        "  cmpname = []\n",
        "  logo = []\n",
        "\n",
        "\n",
        "  for i in job_profile:\n",
        "   x7 = i.text.strip()\n",
        "   job.append(x7)\n",
        "\n",
        "  for i in company_name:\n",
        "   x8 = i.find('p')\n",
        "   cmpname.append(x8.text.strip())\n",
        "\n",
        "  for i in logo9:\n",
        "   x9 = i.find('img')\n",
        "   if x9:\n",
        "     logo.append(x9['src'])\n",
        "   else :\n",
        "     logo.append('none')\n",
        "\n",
        "  if i == 1:  # First page\n",
        "        job = job[:47]  # Assuming the first page always has 47 rows\n",
        "        cmpname = cmpname[:47]\n",
        "        logo = logo[:47]\n",
        "        location = location[:47]\n",
        "        ctc = ctc[:47]\n",
        "        exp = exp[:47]\n",
        "  else:  # Other pages\n",
        "        job = job[:40]  # Assuming other pages always have 40 rows\n",
        "        cmpname = cmpname[:40]\n",
        "        logo = logo[:40]\n",
        "        location = location[:40]\n",
        "        ctc = ctc[:40]\n",
        "        exp = exp[:40]\n",
        "\n",
        "  print(len(job))\n",
        "  print(len(cmpname))\n",
        "  print(len(logo))\n",
        "  print(len(location))\n",
        "  print(len(ctc))\n",
        "  print(len(exp))\n",
        "\n",
        "\n",
        "  merge2 = {'Job Profile':job,'Company':cmpname,'Location':location,'CTC':ctc,'EXPERIENCE':exp,'LOGO':logo}\n",
        "\n",
        "  data = data.append(pd.DataFrame(merge2),ignore_index=True)\n",
        ""
      ],
      "metadata": {
        "colab": {
          "base_uri": "https://localhost:8080/"
        },
        "id": "r5mSa1t4uX1e",
        "outputId": "5968b438-46aa-4c5d-9e85-67944ea20c81"
      },
      "execution_count": 141,
      "outputs": [
        {
          "output_type": "stream",
          "name": "stdout",
          "text": [
            "https://internshala.com/jobs/page-1/\n",
            "40\n",
            "40\n",
            "40\n",
            "40\n",
            "40\n",
            "40\n",
            "https://internshala.com/jobs/page-2/\n"
          ]
        },
        {
          "output_type": "stream",
          "name": "stderr",
          "text": [
            "<ipython-input-141-739e835d840a>:79: FutureWarning: The frame.append method is deprecated and will be removed from pandas in a future version. Use pandas.concat instead.\n",
            "  data = data.append(pd.DataFrame(merge2),ignore_index=True)\n"
          ]
        },
        {
          "output_type": "stream",
          "name": "stdout",
          "text": [
            "40\n",
            "40\n",
            "40\n",
            "40\n",
            "40\n",
            "40\n",
            "https://internshala.com/jobs/page-3/\n"
          ]
        },
        {
          "output_type": "stream",
          "name": "stderr",
          "text": [
            "<ipython-input-141-739e835d840a>:79: FutureWarning: The frame.append method is deprecated and will be removed from pandas in a future version. Use pandas.concat instead.\n",
            "  data = data.append(pd.DataFrame(merge2),ignore_index=True)\n"
          ]
        },
        {
          "output_type": "stream",
          "name": "stdout",
          "text": [
            "40\n",
            "40\n",
            "40\n",
            "40\n",
            "40\n",
            "40\n",
            "https://internshala.com/jobs/page-4/\n"
          ]
        },
        {
          "output_type": "stream",
          "name": "stderr",
          "text": [
            "<ipython-input-141-739e835d840a>:79: FutureWarning: The frame.append method is deprecated and will be removed from pandas in a future version. Use pandas.concat instead.\n",
            "  data = data.append(pd.DataFrame(merge2),ignore_index=True)\n"
          ]
        },
        {
          "output_type": "stream",
          "name": "stdout",
          "text": [
            "40\n",
            "40\n",
            "40\n",
            "40\n",
            "40\n",
            "40\n",
            "https://internshala.com/jobs/page-5/\n"
          ]
        },
        {
          "output_type": "stream",
          "name": "stderr",
          "text": [
            "<ipython-input-141-739e835d840a>:79: FutureWarning: The frame.append method is deprecated and will be removed from pandas in a future version. Use pandas.concat instead.\n",
            "  data = data.append(pd.DataFrame(merge2),ignore_index=True)\n"
          ]
        },
        {
          "output_type": "stream",
          "name": "stdout",
          "text": [
            "40\n",
            "40\n",
            "40\n",
            "40\n",
            "40\n",
            "40\n",
            "https://internshala.com/jobs/page-6/\n"
          ]
        },
        {
          "output_type": "stream",
          "name": "stderr",
          "text": [
            "<ipython-input-141-739e835d840a>:79: FutureWarning: The frame.append method is deprecated and will be removed from pandas in a future version. Use pandas.concat instead.\n",
            "  data = data.append(pd.DataFrame(merge2),ignore_index=True)\n"
          ]
        },
        {
          "output_type": "stream",
          "name": "stdout",
          "text": [
            "40\n",
            "40\n",
            "40\n",
            "40\n",
            "40\n",
            "40\n",
            "https://internshala.com/jobs/page-7/\n"
          ]
        },
        {
          "output_type": "stream",
          "name": "stderr",
          "text": [
            "<ipython-input-141-739e835d840a>:79: FutureWarning: The frame.append method is deprecated and will be removed from pandas in a future version. Use pandas.concat instead.\n",
            "  data = data.append(pd.DataFrame(merge2),ignore_index=True)\n"
          ]
        },
        {
          "output_type": "stream",
          "name": "stdout",
          "text": [
            "40\n",
            "40\n",
            "40\n",
            "40\n",
            "40\n",
            "40\n",
            "https://internshala.com/jobs/page-8/\n"
          ]
        },
        {
          "output_type": "stream",
          "name": "stderr",
          "text": [
            "<ipython-input-141-739e835d840a>:79: FutureWarning: The frame.append method is deprecated and will be removed from pandas in a future version. Use pandas.concat instead.\n",
            "  data = data.append(pd.DataFrame(merge2),ignore_index=True)\n"
          ]
        },
        {
          "output_type": "stream",
          "name": "stdout",
          "text": [
            "40\n",
            "40\n",
            "40\n",
            "40\n",
            "40\n",
            "40\n",
            "https://internshala.com/jobs/page-9/\n"
          ]
        },
        {
          "output_type": "stream",
          "name": "stderr",
          "text": [
            "<ipython-input-141-739e835d840a>:79: FutureWarning: The frame.append method is deprecated and will be removed from pandas in a future version. Use pandas.concat instead.\n",
            "  data = data.append(pd.DataFrame(merge2),ignore_index=True)\n"
          ]
        },
        {
          "output_type": "stream",
          "name": "stdout",
          "text": [
            "40\n",
            "40\n",
            "40\n",
            "40\n",
            "40\n",
            "40\n",
            "https://internshala.com/jobs/page-10/\n"
          ]
        },
        {
          "output_type": "stream",
          "name": "stderr",
          "text": [
            "<ipython-input-141-739e835d840a>:79: FutureWarning: The frame.append method is deprecated and will be removed from pandas in a future version. Use pandas.concat instead.\n",
            "  data = data.append(pd.DataFrame(merge2),ignore_index=True)\n"
          ]
        },
        {
          "output_type": "stream",
          "name": "stdout",
          "text": [
            "40\n",
            "40\n",
            "40\n",
            "40\n",
            "40\n",
            "40\n"
          ]
        },
        {
          "output_type": "stream",
          "name": "stderr",
          "text": [
            "<ipython-input-141-739e835d840a>:79: FutureWarning: The frame.append method is deprecated and will be removed from pandas in a future version. Use pandas.concat instead.\n",
            "  data = data.append(pd.DataFrame(merge2),ignore_index=True)\n"
          ]
        }
      ]
    },
    {
      "cell_type": "code",
      "source": [
        "pd.DataFrame(merge2)"
      ],
      "metadata": {
        "id": "7db2RpcixC6G"
      },
      "execution_count": null,
      "outputs": []
    },
    {
      "cell_type": "code",
      "source": [
        "data"
      ],
      "metadata": {
        "colab": {
          "base_uri": "https://localhost:8080/",
          "height": 580
        },
        "id": "7ivwl8Ct0YiH",
        "outputId": "21a1e9cc-20ff-4211-e9d1-ab4bee12f3d5"
      },
      "execution_count": 142,
      "outputs": [
        {
          "output_type": "execute_result",
          "data": {
            "text/plain": [
              "                                 Job Profile                    Company  \\\n",
              "0    Online English Teacher - Work From Home                PlanetSpark   \n",
              "1             Business Development Executive                  Urban NXT   \n",
              "2             Social Media Marketing Manager                  Urban NXT   \n",
              "3                 Mechanical Design Engineer                CAD Dzigner   \n",
              "4                            Sales Associate                PlanetSpark   \n",
              "..                                       ...                        ...   \n",
              "395             Business Development Manager  Bonanza Portfolio Limited   \n",
              "396           Human Resources (HR) Executive      R J Gala & Associates   \n",
              "397                          Cinematographer          Bluntly Streaming   \n",
              "398      Export Business Development Manager            Slaughter & Fox   \n",
              "399                                   3D Art          Bluntly Streaming   \n",
              "\n",
              "                                              Location                    CTC  \\\n",
              "0                                            Hyderabad             ₹ 3,00,000   \n",
              "1                                               Mumbai  ₹ 2,00,000 - 3,00,000   \n",
              "2                                               Mumbai  ₹ 2,00,000 - 3,00,000   \n",
              "3                                               Mumbai  ₹ 3,00,000 - 4,00,000   \n",
              "4                                              Gurgaon  ₹ 6,00,000 - 7,00,000   \n",
              "..                                                 ...                    ...   \n",
              "395   Amritsar, Delhi, Jalandhar, Panchkula, Bangalore  ₹ 3,00,000 - 4,20,000   \n",
              "396                                             Mumbai             ₹ 2,00,000   \n",
              "397                              Delhi, Gurgaon, Noida  ₹ 2,00,000 - 3,00,000   \n",
              "398  Kolkata, Goa Velha                            ...  ₹ 7,00,000 - 9,00,000   \n",
              "399                              Delhi, Gurgaon, Noida  ₹ 2,00,000 - 3,00,000   \n",
              "\n",
              "    EXPERIENCE                                               LOGO  \n",
              "0    1-5 years                                               none  \n",
              "1    0-5 years  https://internshala-uploads.internshala.com/lo...  \n",
              "2    0-5 years  https://internshala-uploads.internshala.com/lo...  \n",
              "3    1-2 years  https://internshala-uploads.internshala.com/lo...  \n",
              "4    0-4 years                                               none  \n",
              "..         ...                                                ...  \n",
              "395  1-5 years  https://internshala-uploads.internshala.com/lo...  \n",
              "396  1-2 years                                               none  \n",
              "397    0 years                                               none  \n",
              "398  2-5 years  https://internshala-uploads.internshala.com/lo...  \n",
              "399    0 years                                               none  \n",
              "\n",
              "[400 rows x 6 columns]"
            ],
            "text/html": [
              "\n",
              "  <div id=\"df-d7a6f87f-302d-43a0-8c79-0162fd9d30e0\" class=\"colab-df-container\">\n",
              "    <div>\n",
              "<style scoped>\n",
              "    .dataframe tbody tr th:only-of-type {\n",
              "        vertical-align: middle;\n",
              "    }\n",
              "\n",
              "    .dataframe tbody tr th {\n",
              "        vertical-align: top;\n",
              "    }\n",
              "\n",
              "    .dataframe thead th {\n",
              "        text-align: right;\n",
              "    }\n",
              "</style>\n",
              "<table border=\"1\" class=\"dataframe\">\n",
              "  <thead>\n",
              "    <tr style=\"text-align: right;\">\n",
              "      <th></th>\n",
              "      <th>Job Profile</th>\n",
              "      <th>Company</th>\n",
              "      <th>Location</th>\n",
              "      <th>CTC</th>\n",
              "      <th>EXPERIENCE</th>\n",
              "      <th>LOGO</th>\n",
              "    </tr>\n",
              "  </thead>\n",
              "  <tbody>\n",
              "    <tr>\n",
              "      <th>0</th>\n",
              "      <td>Online English Teacher - Work From Home</td>\n",
              "      <td>PlanetSpark</td>\n",
              "      <td>Hyderabad</td>\n",
              "      <td>₹ 3,00,000</td>\n",
              "      <td>1-5 years</td>\n",
              "      <td>none</td>\n",
              "    </tr>\n",
              "    <tr>\n",
              "      <th>1</th>\n",
              "      <td>Business Development Executive</td>\n",
              "      <td>Urban NXT</td>\n",
              "      <td>Mumbai</td>\n",
              "      <td>₹ 2,00,000 - 3,00,000</td>\n",
              "      <td>0-5 years</td>\n",
              "      <td>https://internshala-uploads.internshala.com/lo...</td>\n",
              "    </tr>\n",
              "    <tr>\n",
              "      <th>2</th>\n",
              "      <td>Social Media Marketing Manager</td>\n",
              "      <td>Urban NXT</td>\n",
              "      <td>Mumbai</td>\n",
              "      <td>₹ 2,00,000 - 3,00,000</td>\n",
              "      <td>0-5 years</td>\n",
              "      <td>https://internshala-uploads.internshala.com/lo...</td>\n",
              "    </tr>\n",
              "    <tr>\n",
              "      <th>3</th>\n",
              "      <td>Mechanical Design Engineer</td>\n",
              "      <td>CAD Dzigner</td>\n",
              "      <td>Mumbai</td>\n",
              "      <td>₹ 3,00,000 - 4,00,000</td>\n",
              "      <td>1-2 years</td>\n",
              "      <td>https://internshala-uploads.internshala.com/lo...</td>\n",
              "    </tr>\n",
              "    <tr>\n",
              "      <th>4</th>\n",
              "      <td>Sales Associate</td>\n",
              "      <td>PlanetSpark</td>\n",
              "      <td>Gurgaon</td>\n",
              "      <td>₹ 6,00,000 - 7,00,000</td>\n",
              "      <td>0-4 years</td>\n",
              "      <td>none</td>\n",
              "    </tr>\n",
              "    <tr>\n",
              "      <th>...</th>\n",
              "      <td>...</td>\n",
              "      <td>...</td>\n",
              "      <td>...</td>\n",
              "      <td>...</td>\n",
              "      <td>...</td>\n",
              "      <td>...</td>\n",
              "    </tr>\n",
              "    <tr>\n",
              "      <th>395</th>\n",
              "      <td>Business Development Manager</td>\n",
              "      <td>Bonanza Portfolio Limited</td>\n",
              "      <td>Amritsar, Delhi, Jalandhar, Panchkula, Bangalore</td>\n",
              "      <td>₹ 3,00,000 - 4,20,000</td>\n",
              "      <td>1-5 years</td>\n",
              "      <td>https://internshala-uploads.internshala.com/lo...</td>\n",
              "    </tr>\n",
              "    <tr>\n",
              "      <th>396</th>\n",
              "      <td>Human Resources (HR) Executive</td>\n",
              "      <td>R J Gala &amp; Associates</td>\n",
              "      <td>Mumbai</td>\n",
              "      <td>₹ 2,00,000</td>\n",
              "      <td>1-2 years</td>\n",
              "      <td>none</td>\n",
              "    </tr>\n",
              "    <tr>\n",
              "      <th>397</th>\n",
              "      <td>Cinematographer</td>\n",
              "      <td>Bluntly Streaming</td>\n",
              "      <td>Delhi, Gurgaon, Noida</td>\n",
              "      <td>₹ 2,00,000 - 3,00,000</td>\n",
              "      <td>0 years</td>\n",
              "      <td>none</td>\n",
              "    </tr>\n",
              "    <tr>\n",
              "      <th>398</th>\n",
              "      <td>Export Business Development Manager</td>\n",
              "      <td>Slaughter &amp; Fox</td>\n",
              "      <td>Kolkata, Goa Velha                            ...</td>\n",
              "      <td>₹ 7,00,000 - 9,00,000</td>\n",
              "      <td>2-5 years</td>\n",
              "      <td>https://internshala-uploads.internshala.com/lo...</td>\n",
              "    </tr>\n",
              "    <tr>\n",
              "      <th>399</th>\n",
              "      <td>3D Art</td>\n",
              "      <td>Bluntly Streaming</td>\n",
              "      <td>Delhi, Gurgaon, Noida</td>\n",
              "      <td>₹ 2,00,000 - 3,00,000</td>\n",
              "      <td>0 years</td>\n",
              "      <td>none</td>\n",
              "    </tr>\n",
              "  </tbody>\n",
              "</table>\n",
              "<p>400 rows × 6 columns</p>\n",
              "</div>\n",
              "    <div class=\"colab-df-buttons\">\n",
              "\n",
              "  <div class=\"colab-df-container\">\n",
              "    <button class=\"colab-df-convert\" onclick=\"convertToInteractive('df-d7a6f87f-302d-43a0-8c79-0162fd9d30e0')\"\n",
              "            title=\"Convert this dataframe to an interactive table.\"\n",
              "            style=\"display:none;\">\n",
              "\n",
              "  <svg xmlns=\"http://www.w3.org/2000/svg\" height=\"24px\" viewBox=\"0 -960 960 960\">\n",
              "    <path d=\"M120-120v-720h720v720H120Zm60-500h600v-160H180v160Zm220 220h160v-160H400v160Zm0 220h160v-160H400v160ZM180-400h160v-160H180v160Zm440 0h160v-160H620v160ZM180-180h160v-160H180v160Zm440 0h160v-160H620v160Z\"/>\n",
              "  </svg>\n",
              "    </button>\n",
              "\n",
              "  <style>\n",
              "    .colab-df-container {\n",
              "      display:flex;\n",
              "      gap: 12px;\n",
              "    }\n",
              "\n",
              "    .colab-df-convert {\n",
              "      background-color: #E8F0FE;\n",
              "      border: none;\n",
              "      border-radius: 50%;\n",
              "      cursor: pointer;\n",
              "      display: none;\n",
              "      fill: #1967D2;\n",
              "      height: 32px;\n",
              "      padding: 0 0 0 0;\n",
              "      width: 32px;\n",
              "    }\n",
              "\n",
              "    .colab-df-convert:hover {\n",
              "      background-color: #E2EBFA;\n",
              "      box-shadow: 0px 1px 2px rgba(60, 64, 67, 0.3), 0px 1px 3px 1px rgba(60, 64, 67, 0.15);\n",
              "      fill: #174EA6;\n",
              "    }\n",
              "\n",
              "    .colab-df-buttons div {\n",
              "      margin-bottom: 4px;\n",
              "    }\n",
              "\n",
              "    [theme=dark] .colab-df-convert {\n",
              "      background-color: #3B4455;\n",
              "      fill: #D2E3FC;\n",
              "    }\n",
              "\n",
              "    [theme=dark] .colab-df-convert:hover {\n",
              "      background-color: #434B5C;\n",
              "      box-shadow: 0px 1px 3px 1px rgba(0, 0, 0, 0.15);\n",
              "      filter: drop-shadow(0px 1px 2px rgba(0, 0, 0, 0.3));\n",
              "      fill: #FFFFFF;\n",
              "    }\n",
              "  </style>\n",
              "\n",
              "    <script>\n",
              "      const buttonEl =\n",
              "        document.querySelector('#df-d7a6f87f-302d-43a0-8c79-0162fd9d30e0 button.colab-df-convert');\n",
              "      buttonEl.style.display =\n",
              "        google.colab.kernel.accessAllowed ? 'block' : 'none';\n",
              "\n",
              "      async function convertToInteractive(key) {\n",
              "        const element = document.querySelector('#df-d7a6f87f-302d-43a0-8c79-0162fd9d30e0');\n",
              "        const dataTable =\n",
              "          await google.colab.kernel.invokeFunction('convertToInteractive',\n",
              "                                                    [key], {});\n",
              "        if (!dataTable) return;\n",
              "\n",
              "        const docLinkHtml = 'Like what you see? Visit the ' +\n",
              "          '<a target=\"_blank\" href=https://colab.research.google.com/notebooks/data_table.ipynb>data table notebook</a>'\n",
              "          + ' to learn more about interactive tables.';\n",
              "        element.innerHTML = '';\n",
              "        dataTable['output_type'] = 'display_data';\n",
              "        await google.colab.output.renderOutput(dataTable, element);\n",
              "        const docLink = document.createElement('div');\n",
              "        docLink.innerHTML = docLinkHtml;\n",
              "        element.appendChild(docLink);\n",
              "      }\n",
              "    </script>\n",
              "  </div>\n",
              "\n",
              "\n",
              "<div id=\"df-0f6a83d0-efd2-4a6b-b058-96b4ef2ecf5b\">\n",
              "  <button class=\"colab-df-quickchart\" onclick=\"quickchart('df-0f6a83d0-efd2-4a6b-b058-96b4ef2ecf5b')\"\n",
              "            title=\"Suggest charts\"\n",
              "            style=\"display:none;\">\n",
              "\n",
              "<svg xmlns=\"http://www.w3.org/2000/svg\" height=\"24px\"viewBox=\"0 0 24 24\"\n",
              "     width=\"24px\">\n",
              "    <g>\n",
              "        <path d=\"M19 3H5c-1.1 0-2 .9-2 2v14c0 1.1.9 2 2 2h14c1.1 0 2-.9 2-2V5c0-1.1-.9-2-2-2zM9 17H7v-7h2v7zm4 0h-2V7h2v10zm4 0h-2v-4h2v4z\"/>\n",
              "    </g>\n",
              "</svg>\n",
              "  </button>\n",
              "\n",
              "<style>\n",
              "  .colab-df-quickchart {\n",
              "      --bg-color: #E8F0FE;\n",
              "      --fill-color: #1967D2;\n",
              "      --hover-bg-color: #E2EBFA;\n",
              "      --hover-fill-color: #174EA6;\n",
              "      --disabled-fill-color: #AAA;\n",
              "      --disabled-bg-color: #DDD;\n",
              "  }\n",
              "\n",
              "  [theme=dark] .colab-df-quickchart {\n",
              "      --bg-color: #3B4455;\n",
              "      --fill-color: #D2E3FC;\n",
              "      --hover-bg-color: #434B5C;\n",
              "      --hover-fill-color: #FFFFFF;\n",
              "      --disabled-bg-color: #3B4455;\n",
              "      --disabled-fill-color: #666;\n",
              "  }\n",
              "\n",
              "  .colab-df-quickchart {\n",
              "    background-color: var(--bg-color);\n",
              "    border: none;\n",
              "    border-radius: 50%;\n",
              "    cursor: pointer;\n",
              "    display: none;\n",
              "    fill: var(--fill-color);\n",
              "    height: 32px;\n",
              "    padding: 0;\n",
              "    width: 32px;\n",
              "  }\n",
              "\n",
              "  .colab-df-quickchart:hover {\n",
              "    background-color: var(--hover-bg-color);\n",
              "    box-shadow: 0 1px 2px rgba(60, 64, 67, 0.3), 0 1px 3px 1px rgba(60, 64, 67, 0.15);\n",
              "    fill: var(--button-hover-fill-color);\n",
              "  }\n",
              "\n",
              "  .colab-df-quickchart-complete:disabled,\n",
              "  .colab-df-quickchart-complete:disabled:hover {\n",
              "    background-color: var(--disabled-bg-color);\n",
              "    fill: var(--disabled-fill-color);\n",
              "    box-shadow: none;\n",
              "  }\n",
              "\n",
              "  .colab-df-spinner {\n",
              "    border: 2px solid var(--fill-color);\n",
              "    border-color: transparent;\n",
              "    border-bottom-color: var(--fill-color);\n",
              "    animation:\n",
              "      spin 1s steps(1) infinite;\n",
              "  }\n",
              "\n",
              "  @keyframes spin {\n",
              "    0% {\n",
              "      border-color: transparent;\n",
              "      border-bottom-color: var(--fill-color);\n",
              "      border-left-color: var(--fill-color);\n",
              "    }\n",
              "    20% {\n",
              "      border-color: transparent;\n",
              "      border-left-color: var(--fill-color);\n",
              "      border-top-color: var(--fill-color);\n",
              "    }\n",
              "    30% {\n",
              "      border-color: transparent;\n",
              "      border-left-color: var(--fill-color);\n",
              "      border-top-color: var(--fill-color);\n",
              "      border-right-color: var(--fill-color);\n",
              "    }\n",
              "    40% {\n",
              "      border-color: transparent;\n",
              "      border-right-color: var(--fill-color);\n",
              "      border-top-color: var(--fill-color);\n",
              "    }\n",
              "    60% {\n",
              "      border-color: transparent;\n",
              "      border-right-color: var(--fill-color);\n",
              "    }\n",
              "    80% {\n",
              "      border-color: transparent;\n",
              "      border-right-color: var(--fill-color);\n",
              "      border-bottom-color: var(--fill-color);\n",
              "    }\n",
              "    90% {\n",
              "      border-color: transparent;\n",
              "      border-bottom-color: var(--fill-color);\n",
              "    }\n",
              "  }\n",
              "</style>\n",
              "\n",
              "  <script>\n",
              "    async function quickchart(key) {\n",
              "      const quickchartButtonEl =\n",
              "        document.querySelector('#' + key + ' button');\n",
              "      quickchartButtonEl.disabled = true;  // To prevent multiple clicks.\n",
              "      quickchartButtonEl.classList.add('colab-df-spinner');\n",
              "      try {\n",
              "        const charts = await google.colab.kernel.invokeFunction(\n",
              "            'suggestCharts', [key], {});\n",
              "      } catch (error) {\n",
              "        console.error('Error during call to suggestCharts:', error);\n",
              "      }\n",
              "      quickchartButtonEl.classList.remove('colab-df-spinner');\n",
              "      quickchartButtonEl.classList.add('colab-df-quickchart-complete');\n",
              "    }\n",
              "    (() => {\n",
              "      let quickchartButtonEl =\n",
              "        document.querySelector('#df-0f6a83d0-efd2-4a6b-b058-96b4ef2ecf5b button');\n",
              "      quickchartButtonEl.style.display =\n",
              "        google.colab.kernel.accessAllowed ? 'block' : 'none';\n",
              "    })();\n",
              "  </script>\n",
              "</div>\n",
              "\n",
              "  <div id=\"id_8324fcb7-c812-4629-ac1a-49ea1ffd265f\">\n",
              "    <style>\n",
              "      .colab-df-generate {\n",
              "        background-color: #E8F0FE;\n",
              "        border: none;\n",
              "        border-radius: 50%;\n",
              "        cursor: pointer;\n",
              "        display: none;\n",
              "        fill: #1967D2;\n",
              "        height: 32px;\n",
              "        padding: 0 0 0 0;\n",
              "        width: 32px;\n",
              "      }\n",
              "\n",
              "      .colab-df-generate:hover {\n",
              "        background-color: #E2EBFA;\n",
              "        box-shadow: 0px 1px 2px rgba(60, 64, 67, 0.3), 0px 1px 3px 1px rgba(60, 64, 67, 0.15);\n",
              "        fill: #174EA6;\n",
              "      }\n",
              "\n",
              "      [theme=dark] .colab-df-generate {\n",
              "        background-color: #3B4455;\n",
              "        fill: #D2E3FC;\n",
              "      }\n",
              "\n",
              "      [theme=dark] .colab-df-generate:hover {\n",
              "        background-color: #434B5C;\n",
              "        box-shadow: 0px 1px 3px 1px rgba(0, 0, 0, 0.15);\n",
              "        filter: drop-shadow(0px 1px 2px rgba(0, 0, 0, 0.3));\n",
              "        fill: #FFFFFF;\n",
              "      }\n",
              "    </style>\n",
              "    <button class=\"colab-df-generate\" onclick=\"generateWithVariable('data')\"\n",
              "            title=\"Generate code using this dataframe.\"\n",
              "            style=\"display:none;\">\n",
              "\n",
              "  <svg xmlns=\"http://www.w3.org/2000/svg\" height=\"24px\"viewBox=\"0 0 24 24\"\n",
              "       width=\"24px\">\n",
              "    <path d=\"M7,19H8.4L18.45,9,17,7.55,7,17.6ZM5,21V16.75L18.45,3.32a2,2,0,0,1,2.83,0l1.4,1.43a1.91,1.91,0,0,1,.58,1.4,1.91,1.91,0,0,1-.58,1.4L9.25,21ZM18.45,9,17,7.55Zm-12,3A5.31,5.31,0,0,0,4.9,8.1,5.31,5.31,0,0,0,1,6.5,5.31,5.31,0,0,0,4.9,4.9,5.31,5.31,0,0,0,6.5,1,5.31,5.31,0,0,0,8.1,4.9,5.31,5.31,0,0,0,12,6.5,5.46,5.46,0,0,0,6.5,12Z\"/>\n",
              "  </svg>\n",
              "    </button>\n",
              "    <script>\n",
              "      (() => {\n",
              "      const buttonEl =\n",
              "        document.querySelector('#id_8324fcb7-c812-4629-ac1a-49ea1ffd265f button.colab-df-generate');\n",
              "      buttonEl.style.display =\n",
              "        google.colab.kernel.accessAllowed ? 'block' : 'none';\n",
              "\n",
              "      buttonEl.onclick = () => {\n",
              "        google.colab.notebook.generateWithVariable('data');\n",
              "      }\n",
              "      })();\n",
              "    </script>\n",
              "  </div>\n",
              "\n",
              "    </div>\n",
              "  </div>\n"
            ],
            "application/vnd.google.colaboratory.intrinsic+json": {
              "type": "dataframe",
              "variable_name": "data",
              "summary": "{\n  \"name\": \"data\",\n  \"rows\": 400,\n  \"fields\": [\n    {\n      \"column\": \"Job Profile\",\n      \"properties\": {\n        \"dtype\": \"string\",\n        \"num_unique_values\": 235,\n        \"samples\": [\n          \"Tele Sales Executive - Malad West (Mumbai)\",\n          \"Stenographer\",\n          \"Academic Content Writer\"\n        ],\n        \"semantic_type\": \"\",\n        \"description\": \"\"\n      }\n    },\n    {\n      \"column\": \"Company\",\n      \"properties\": {\n        \"dtype\": \"string\",\n        \"num_unique_values\": 216,\n        \"samples\": [\n          \"Dolphin Ad World Private Limited\",\n          \"Amber LifeSciences Private Limited\",\n          \"Innofitt Systems Private Limited\"\n        ],\n        \"semantic_type\": \"\",\n        \"description\": \"\"\n      }\n    },\n    {\n      \"column\": \"Location\",\n      \"properties\": {\n        \"dtype\": \"category\",\n        \"num_unique_values\": 104,\n        \"samples\": [\n          \"Nelamangala\",\n          \"Chennai, Pune, Visakhapatnam, Mumbai, Vijayawada\",\n          \"Kurnool, Patna, Secunderabad, Hyderabad, Kompally, Jalandhar, Begumpet, Telangana, Karnataka, Jharkhand\"\n        ],\n        \"semantic_type\": \"\",\n        \"description\": \"\"\n      }\n    },\n    {\n      \"column\": \"CTC\",\n      \"properties\": {\n        \"dtype\": \"category\",\n        \"num_unique_values\": 126,\n        \"samples\": [\n          \"\\u20b9 2,50,000 - 5,00,000\",\n          \"\\u20b9 2,00,000 - 2,10,000\",\n          \"\\u20b9 2,00,000 - 2,02,000\"\n        ],\n        \"semantic_type\": \"\",\n        \"description\": \"\"\n      }\n    },\n    {\n      \"column\": \"EXPERIENCE\",\n      \"properties\": {\n        \"dtype\": \"category\",\n        \"num_unique_values\": 18,\n        \"samples\": [\n          \"1-5 years\",\n          \"0-5 years\",\n          \"2-5 years\"\n        ],\n        \"semantic_type\": \"\",\n        \"description\": \"\"\n      }\n    },\n    {\n      \"column\": \"LOGO\",\n      \"properties\": {\n        \"dtype\": \"category\",\n        \"num_unique_values\": 138,\n        \"samples\": [\n          \"https://internshala-uploads.internshala.com/logo%2F5e2fdd70ed2881580195184.png.webp\",\n          \"https://internshala-uploads.internshala.com/logo%2F5ee9f78abb1fc1592391562.jpg.webp\",\n          \"https://internshala-uploads.internshala.com/logo%2F9ojp1svpn08-19279.png.webp\"\n        ],\n        \"semantic_type\": \"\",\n        \"description\": \"\"\n      }\n    }\n  ]\n}"
            }
          },
          "metadata": {},
          "execution_count": 142
        }
      ]
    },
    {
      "cell_type": "code",
      "source": [
        "data['Location'].value_counts()"
      ],
      "metadata": {
        "colab": {
          "base_uri": "https://localhost:8080/"
        },
        "id": "r0kcEXmK1pkA",
        "outputId": "8e345365-10a3-43b2-dd0a-82ae6e8fde66"
      },
      "execution_count": 148,
      "outputs": [
        {
          "output_type": "execute_result",
          "data": {
            "text/plain": [
              "Mumbai                                                                    74\n",
              "Gurgaon                                                                   39\n",
              "Delhi                                                                     37\n",
              "Work from home                                                            27\n",
              "Bangalore                                                                 27\n",
              "                                                                          ..\n",
              "Mysuru, Bangalore                                                          1\n",
              "Bharatpur, Kashipur, Sitapur, Roorkee, Muzzafarpur                         1\n",
              "Indore, Pithampur, Dewas, Mhow                                             1\n",
              "Mumbai, Goregaon Kh                                                        1\n",
              "Kolkata, Goa Velha                                            (Hybrid)     1\n",
              "Name: Location, Length: 104, dtype: int64"
            ]
          },
          "metadata": {},
          "execution_count": 148
        }
      ]
    },
    {
      "cell_type": "code",
      "source": [
        "data.to_csv('output.csv', index=False)"
      ],
      "metadata": {
        "id": "nTZrca1t3CE4"
      },
      "execution_count": 150,
      "outputs": []
    },
    {
      "cell_type": "code",
      "source": [],
      "metadata": {
        "id": "2MSkTfk03aZz"
      },
      "execution_count": null,
      "outputs": []
    }
  ]
}